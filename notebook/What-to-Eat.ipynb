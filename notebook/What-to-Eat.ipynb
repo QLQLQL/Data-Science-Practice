{
 "cells": [
  {
   "cell_type": "markdown",
   "metadata": {},
   "source": [
    "# What should we eat ?\n",
    "\n",
    "> We are what we eat.\n",
    "\n",
    "2014年的夏天我开始认真减肥, 其实减肥的原理谁都懂, \"控制嘴,迈开腿\", 说来也就是控制饮食 + 科学锻炼, 但认真执行彻底的很少. 那段时间我终于努力学习了有关怎么吃的问题, 不能说是多么深入的了解, 但至少几个基本原理都明白了, 以及最重要最受益的一点是养成了看食物营养表的习惯. 就像上面那句话说的那样, 吃什么非常重要, 每天了解自己吃了多少, 吃了什么, 然后合理控制, 就算不锻炼, 也会感觉变健康了. \n",
    "\n",
    "这次探索一下`Food Nutrition Data`, 看看可以发现点什么."
   ]
  },
  {
   "cell_type": "code",
   "execution_count": 1,
   "metadata": {
    "collapsed": true
   },
   "outputs": [],
   "source": [
    "import numpy as np\n",
    "import pandas as pd\n",
    "import matplotlib.pyplot as plt\n",
    "%matplotlib inline\n",
    "from scipy import stats\n",
    "import seaborn as sns"
   ]
  },
  {
   "cell_type": "code",
   "execution_count": 2,
   "metadata": {
    "collapsed": false
   },
   "outputs": [
    {
     "name": "stderr",
     "output_type": "stream",
     "text": [
      "/Users/mn/program/anaconda2/lib/python2.7/site-packages/IPython/core/interactiveshell.py:2902: DtypeWarning: Columns (0,3,5,27,36) have mixed types. Specify dtype option on import or set low_memory=False.\n",
      "  interactivity=interactivity, compiler=compiler, result=result)\n"
     ]
    },
    {
     "data": {
      "text/html": [
       "<div>\n",
       "<table border=\"1\" class=\"dataframe\">\n",
       "  <thead>\n",
       "    <tr style=\"text-align: right;\">\n",
       "      <th></th>\n",
       "      <th>code</th>\n",
       "      <th>url</th>\n",
       "      <th>creator</th>\n",
       "      <th>created_t</th>\n",
       "      <th>created_datetime</th>\n",
       "      <th>last_modified_t</th>\n",
       "      <th>last_modified_datetime</th>\n",
       "      <th>product_name</th>\n",
       "      <th>generic_name</th>\n",
       "      <th>quantity</th>\n",
       "      <th>...</th>\n",
       "      <th>caffeine_100g</th>\n",
       "      <th>taurine_100g</th>\n",
       "      <th>ph_100g</th>\n",
       "      <th>fruits_vegetables_nuts_100g</th>\n",
       "      <th>collagen_meat_protein_ratio_100g</th>\n",
       "      <th>cocoa_100g</th>\n",
       "      <th>chlorophyl_100g</th>\n",
       "      <th>carbon_footprint_100g</th>\n",
       "      <th>nutrition_score_fr_100g</th>\n",
       "      <th>nutrition_score_uk_100g</th>\n",
       "    </tr>\n",
       "  </thead>\n",
       "  <tbody>\n",
       "    <tr>\n",
       "      <th>0</th>\n",
       "      <td>000000000000012866</td>\n",
       "      <td>http://world-en.openfoodfacts.org/product/0000...</td>\n",
       "      <td>date-limite-app</td>\n",
       "      <td>1447004364</td>\n",
       "      <td>2015-11-08T17:39:24Z</td>\n",
       "      <td>1447004364</td>\n",
       "      <td>2015-11-08T17:39:24Z</td>\n",
       "      <td>Poêlée à la sarladaise</td>\n",
       "      <td>NaN</td>\n",
       "      <td>NaN</td>\n",
       "      <td>...</td>\n",
       "      <td>NaN</td>\n",
       "      <td>NaN</td>\n",
       "      <td>NaN</td>\n",
       "      <td>NaN</td>\n",
       "      <td>NaN</td>\n",
       "      <td>NaN</td>\n",
       "      <td>NaN</td>\n",
       "      <td>NaN</td>\n",
       "      <td>NaN</td>\n",
       "      <td>NaN</td>\n",
       "    </tr>\n",
       "    <tr>\n",
       "      <th>1</th>\n",
       "      <td>0000000024600</td>\n",
       "      <td>http://world-en.openfoodfacts.org/product/0000...</td>\n",
       "      <td>date-limite-app</td>\n",
       "      <td>1434530704</td>\n",
       "      <td>2015-06-17T08:45:04Z</td>\n",
       "      <td>1434535914</td>\n",
       "      <td>2015-06-17T10:11:54Z</td>\n",
       "      <td>Filet de bœuf</td>\n",
       "      <td>NaN</td>\n",
       "      <td>2.46 kg</td>\n",
       "      <td>...</td>\n",
       "      <td>NaN</td>\n",
       "      <td>NaN</td>\n",
       "      <td>NaN</td>\n",
       "      <td>NaN</td>\n",
       "      <td>NaN</td>\n",
       "      <td>NaN</td>\n",
       "      <td>NaN</td>\n",
       "      <td>NaN</td>\n",
       "      <td>NaN</td>\n",
       "      <td>NaN</td>\n",
       "    </tr>\n",
       "    <tr>\n",
       "      <th>2</th>\n",
       "      <td>0000000036252</td>\n",
       "      <td>http://world-en.openfoodfacts.org/product/0000...</td>\n",
       "      <td>tacinte</td>\n",
       "      <td>1422221701</td>\n",
       "      <td>2015-01-25T21:35:01Z</td>\n",
       "      <td>1422221855</td>\n",
       "      <td>2015-01-25T21:37:35Z</td>\n",
       "      <td>Lion Peanut x2</td>\n",
       "      <td>NaN</td>\n",
       "      <td>NaN</td>\n",
       "      <td>...</td>\n",
       "      <td>NaN</td>\n",
       "      <td>NaN</td>\n",
       "      <td>NaN</td>\n",
       "      <td>NaN</td>\n",
       "      <td>NaN</td>\n",
       "      <td>NaN</td>\n",
       "      <td>NaN</td>\n",
       "      <td>NaN</td>\n",
       "      <td>NaN</td>\n",
       "      <td>NaN</td>\n",
       "    </tr>\n",
       "  </tbody>\n",
       "</table>\n",
       "<p>3 rows × 159 columns</p>\n",
       "</div>"
      ],
      "text/plain": [
       "                 code                                                url  \\\n",
       "0  000000000000012866  http://world-en.openfoodfacts.org/product/0000...   \n",
       "1       0000000024600  http://world-en.openfoodfacts.org/product/0000...   \n",
       "2       0000000036252  http://world-en.openfoodfacts.org/product/0000...   \n",
       "\n",
       "           creator   created_t      created_datetime last_modified_t  \\\n",
       "0  date-limite-app  1447004364  2015-11-08T17:39:24Z      1447004364   \n",
       "1  date-limite-app  1434530704  2015-06-17T08:45:04Z      1434535914   \n",
       "2          tacinte  1422221701  2015-01-25T21:35:01Z      1422221855   \n",
       "\n",
       "  last_modified_datetime            product_name generic_name quantity  \\\n",
       "0   2015-11-08T17:39:24Z  Poêlée à la sarladaise          NaN      NaN   \n",
       "1   2015-06-17T10:11:54Z           Filet de bœuf          NaN  2.46 kg   \n",
       "2   2015-01-25T21:37:35Z          Lion Peanut x2          NaN      NaN   \n",
       "\n",
       "            ...           caffeine_100g taurine_100g ph_100g  \\\n",
       "0           ...                     NaN          NaN     NaN   \n",
       "1           ...                     NaN          NaN     NaN   \n",
       "2           ...                     NaN          NaN     NaN   \n",
       "\n",
       "  fruits_vegetables_nuts_100g collagen_meat_protein_ratio_100g cocoa_100g  \\\n",
       "0                         NaN                              NaN        NaN   \n",
       "1                         NaN                              NaN        NaN   \n",
       "2                         NaN                              NaN        NaN   \n",
       "\n",
       "  chlorophyl_100g carbon_footprint_100g nutrition_score_fr_100g  \\\n",
       "0             NaN                   NaN                     NaN   \n",
       "1             NaN                   NaN                     NaN   \n",
       "2             NaN                   NaN                     NaN   \n",
       "\n",
       "  nutrition_score_uk_100g  \n",
       "0                     NaN  \n",
       "1                     NaN  \n",
       "2                     NaN  \n",
       "\n",
       "[3 rows x 159 columns]"
      ]
     },
     "execution_count": 2,
     "metadata": {},
     "output_type": "execute_result"
    }
   ],
   "source": [
    "foodfacts = pd.read_csv(\"../data/FoodFacts.csv\")\n",
    "foodfacts.head(3)"
   ]
  },
  {
   "cell_type": "code",
   "execution_count": 3,
   "metadata": {
    "collapsed": false,
    "scrolled": true
   },
   "outputs": [
    {
     "name": "stdout",
     "output_type": "stream",
     "text": [
      "<class 'pandas.core.frame.DataFrame'>\n",
      "Int64Index: 65503 entries, 0 to 65502\n",
      "Columns: 159 entries, code to nutrition_score_uk_100g\n",
      "dtypes: float64(103), object(56)\n",
      "memory usage: 80.0+ MB\n"
     ]
    }
   ],
   "source": [
    "foodfacts.info()"
   ]
  },
  {
   "cell_type": "markdown",
   "metadata": {},
   "source": [
    "data descroption 可参考[此处](http://world.openfoodfacts.org/data/data-fields.txt)或[此处](https://www.kaggle.com/openfoodfacts/world-food-facts)"
   ]
  },
  {
   "cell_type": "markdown",
   "metadata": {},
   "source": [
    "## Explore Data"
   ]
  },
  {
   "cell_type": "code",
   "execution_count": 6,
   "metadata": {
    "collapsed": false
   },
   "outputs": [
    {
     "data": {
      "text/plain": [
       "Sugary snacks,Biscuits and cakes,Biscuits                                                                                                                                                                                       572\n",
       "Sugary snacks,Confectioneries,Candies                                                                                                                                                                                           484\n",
       "Plant-based foods and beverages,Plant-based foods,Breakfasts,Cereals and potatoes,Cereals and their products,Breakfast cereals                                                                                                  415\n",
       "Sugary snacks,Biscuits and cakes,Biscuits,Chocolate biscuits                                                                                                                                                                    379\n",
       "Sugary snacks,Chocolates,Dark chocolates                                                                                                                                                                                        317\n",
       "Beverages,Alcoholic beverages,Beers                                                                                                                                                                                             307\n",
       "Salty snacks,Appetizers,Crackers                                                                                                                                                                                                303\n",
       "Groceries,Sauces                                                                                                                                                                                                                290\n",
       "Dairies,Yogurts                                                                                                                                                                                                                 269\n",
       "Sugary snacks,Chocolates,Milk chocolates                                                                                                                                                                                        242\n",
       "Dairies,Cheeses                                                                                                                                                                                                                 220\n",
       "Sugary snacks,Chocolates                                                                                                                                                                                                        213\n",
       "Plant-based foods and beverages,Plant-based foods,Breakfasts,Cereals and potatoes,Cereals and their products,Breakfast cereals,Flakes,Cereal flakes,Mixed cereal flakes,Mueslis                                                 195\n",
       "Beverages,Carbonated drinks,Sodas,Sugared beverages                                                                                                                                                                             190\n",
       "Meats,Prepared meats,Hams,White hams                                                                                                                                                                                            184\n",
       "Sugary snacks,Desserts,Biscuits and cakes,Cakes                                                                                                                                                                                 179\n",
       "Salty snacks,Appetizers,Chips and fries,Crisps,Potato crisps,Potato crisps in sunflower oil                                                                                                                                     161\n",
       "Beverages,Carbonated drinks,Sodas,Colas,Sugared beverages                                                                                                                                                                       157\n",
       "Groceries,Sauces,Tomato sauces                                                                                                                                                                                                  151\n",
       "Beverages,Alcoholic beverages,Beers,Lagers                                                                                                                                                                                      148\n",
       "Plant-based foods and beverages,Plant-based foods,Fats,Olive tree products,Vegetable fats,Vegetable oils,Olive oils,Extra-virgin olive oils                                                                                     141\n",
       "Plant-based foods and beverages,Plant-based foods,Cereals and potatoes,Breads,Sliced breads                                                                                                                                     141\n",
       "Breakfasts,Spreads,Sweet spreads,Bee products,Farming products,Sweeteners,Honeys                                                                                                                                                141\n",
       "Plant-based foods and beverages,Plant-based foods,Cereals and potatoes,Breads                                                                                                                                                   135\n",
       "Groceries,Sauces,Tomato sauces,Ketchup                                                                                                                                                                                          133\n",
       "Plant-based foods and beverages,Plant-based foods,Cereals and potatoes,Cereals and their products,Pastas,Dry pasta                                                                                                              132\n",
       "Beverages,Plant-based beverages,Fruit-based beverages,Juices and nectars,Fruit juices and nectars,Fruit juices,Non-Alcoholic beverages                                                                                          125\n",
       "Beverages,Hot beverages,Coffees,Non-sugared beverages                                                                                                                                                                           121\n",
       "Frozen foods,Meals,Frozen ready-made meals                                                                                                                                                                                      121\n",
       "Farming products,Bird eggs,Eggs                                                                                                                                                                                                 120\n",
       "                                                                                                                                                                                                                               ... \n",
       "Waffles,fr:Gaufres-sucrees                                                                                                                                                                                                        1\n",
       "Fresh foods,Meals,Meals with meat,Microwave meals,fr:Box,Fresh meals,Pasta in a box,Pork meals,fr:Tagliatelles-a-la-carbonara                                                                                                     1\n",
       "Plant-based foods and beverages,Plant-based foods,Legumes and their products,Cereals and potatoes,Legumes,Seeds,Cereals and their products,Legume seeds,Cereal grains,Pulses,Lentils,Rices,Quinoa,Red quinoa                      1\n",
       "Plant-based foods and beverages,Plant-based foods,Fresh foods,Canned foods,Fresh plant-based foods,Hearts of palm                                                                                                                 1\n",
       "Dairies,Cheeses,Cow Cheeses,Mountain products,Mountain cheeses,Uncooked pressed cheeses,Pasteurized cheeses                                                                                                                       1\n",
       "Dessert-mixes,Lemon-curd                                                                                                                                                                                                          1\n",
       "it:Bevanda-analcolica,it:Bevande                                                                                                                                                                                                  1\n",
       "Fresh foods,Sugary snacks,Dairies,Desserts,Yogurts,Chocolates,Dairy desserts,Chocolate desserts,Dairy chocolate desserts,Sweetened yogurts                                                                                        1\n",
       "Canned foods,Meats,Meals,Pork,Canned meals                                                                                                                                                                                        1\n",
       "fr:Pates,fr:Pates-de-porc,fr:Pates-a-l-echalote                                                                                                                                                                                   1\n",
       "Plant-based foods and beverages,Plant-based foods,Cereals and potatoes,Cereals and their products,Flours,Cereal flours,Wheat flours,de:Weizenmehl-t405                                                                            1\n",
       "Plant-based foods and beverages,Plant-based foods,Fruits and vegetables based foods,Fruits based foods,Nuts and their products,Dried products,Nuts,Dried plant-based foods,Shelled nuts,Dried fruits,Almonds,Shelled almonds      1\n",
       "de:Schoko-musli                                                                                                                                                                                                                   1\n",
       "Baby foods,From 6 months,fr:Puree-de-legumes-pour-bebe                                                                                                                                                                            1\n",
       "Plant-based foods and beverages,Plant-based foods,Cereals and potatoes,Seeds,Cereals and their products,Cereal grains,Flours,Quinoa,fr:Farine-complete-de-quinoa-bio,fr:Bio,fr:Farine-complete                                    1\n",
       "Seafood,Jellyfish                                                                                                                                                                                                                 1\n",
       "Biere-blonde                                                                                                                                                                                                                      1\n",
       "Chocolate-sauce                                                                                                                                                                                                                   1\n",
       "Pumpkin-seed-pecan                                                                                                                                                                                                                1\n",
       "Beverages,Alcoholic beverages,Wines,Wines from Australia,Wine-of-south-eastern-australia                                                                                                                                          1\n",
       "Beverages,Carbonated drinks,Sodas,Sugared beverages,Sparking-juice                                                                                                                                                                1\n",
       "Fresh foods,Meals,Fresh meals,fr:Pastilla                                                                                                                                                                                         1\n",
       "fr:Donuts                                                                                                                                                                                                                         1\n",
       "Sugary snacks,Viennoiseries,Brioches,fr:Brioches au chocolat,fr:Chinois,fr:Gouters,fr:Mini-chinois-au-chocolat                                                                                                                    1\n",
       "Fresh foods,Meats,Prepared meats,Poultries,Chickens,Chicken ham                                                                                                                                                                   1\n",
       "Beverages,Non-Alcoholic beverages,Non-alcoholic beers,Sugared beverages                                                                                                                                                           1\n",
       "Plant-based foods and beverages,Beverages,Plant-based foods,Plant-based beverages,Fruit-based beverages,Juices and nectars,Fruit juices and nectars,Fruit juices,Pomegranate juices,Non-Alcoholic beverages                       1\n",
       "Sugary snacks,Desserts,Biscuits and cakes,Cakes,Muffins                                                                                                                                                                           1\n",
       "fr:Poelee-surgelee                                                                                                                                                                                                                1\n",
       "it:Burro,it:Latticini                                                                                                                                                                                                             1\n",
       "Name: categories_en, dtype: int64"
      ]
     },
     "execution_count": 6,
     "metadata": {},
     "output_type": "execute_result"
    }
   ],
   "source": [
    "foodfacts.categories_en.value_counts()"
   ]
  },
  {
   "cell_type": "code",
   "execution_count": 7,
   "metadata": {
    "collapsed": false
   },
   "outputs": [
    {
     "data": {
      "text/plain": [
       "Vegetarian,Vegan                                                                                                                                                                                             1472\n",
       "Green Dot                                                                                                                                                                                                    1006\n",
       "Green Dot,fr:Eco-emballages                                                                                                                                                                                   838\n",
       "Organic,EU Organic,fr:AB Agriculture Biologique                                                                                                                                                               808\n",
       "Organic,EU Organic,FR-BIO-01,fr:AB Agriculture Biologique                                                                                                                                                     404\n",
       "Vegetarian,Vegan,Gluten-free                                                                                                                                                                                  286\n",
       "No colorings,No preservatives                                                                                                                                                                                 275\n",
       "Vegetarian                                                                                                                                                                                                    267\n",
       "No preservatives                                                                                                                                                                                              266\n",
       "Gluten-free                                                                                                                                                                                                   266\n",
       "fr:Produit en Bretagne                                                                                                                                                                                        234\n",
       "Labels of distributors,fr:Sélection Intermarché                                                                                                                                                               224\n",
       "PDO                                                                                                                                                                                                           220\n",
       "fr:AB Agriculture Biologique                                                                                                                                                                                  199\n",
       "Labels of distributors,Carrefour Quality                                                                                                                                                                      182\n",
       "Organic                                                                                                                                                                                                       178\n",
       "PGI                                                                                                                                                                                                           175\n",
       "fr:Info-tri-point-vert                                                                                                                                                                                        158\n",
       "Palm oil free                                                                                                                                                                                                 153\n",
       "Green Dot,Made in France,fr:Eco-emballages                                                                                                                                                                    145\n",
       "fr:Viande Française,fr:Viande Porcine Française                                                                                                                                                               126\n",
       "Organic,EU Organic                                                                                                                                                                                            123\n",
       "fr:Viande Française,fr:Viande Bovine Française                                                                                                                                                                115\n",
       "FSC                                                                                                                                                                                                           110\n",
       "Low or no sugar,No added sugar                                                                                                                                                                                104\n",
       "fr:Saveurs en Or                                                                                                                                                                                              104\n",
       "Kosher,Orthodox Union Kosher                                                                                                                                                                                   96\n",
       "Halal                                                                                                                                                                                                          93\n",
       "fr:AOC                                                                                                                                                                                                         92\n",
       "Rainforest Alliance                                                                                                                                                                                            85\n",
       "                                                                                                                                                                                                             ... \n",
       "Green Dot,No flavour enhancer,No preservatives,fr:Eco-emballages,fr:Elabore-en-france                                                                                                                           1\n",
       "Taste-the-difference                                                                                                                                                                                            1\n",
       "fr:Moule-a-la-main                                                                                                                                                                                              1\n",
       "Low or no fat,Low fat,Reduced fat,65% less fat                                                                                                                                                                  1\n",
       "Organic,EU Organic,Green Dot,Made in France,fr:AB Agriculture Biologique                                                                                                                                        1\n",
       "Vegetarian,Vegan,Gluten-free,No GMOs,Spanish quality label,Tierra de Sabor                                                                                                                                      1\n",
       "fr:AOC,fr:Appellation-pommard-controlee                                                                                                                                                                         1\n",
       "Fair trade,Organic,EU Organic,FSC,Max Havelaar,Carbon compensated product,Carbon footprint,CH-BIO-006,FSC Mix,fr:Agriculture-familiale,fr:Sans-lecithine-de-soja,Carbon footprint                               1\n",
       "Green Dot,Made in France,No artificial flavors,No preservatives,Pure beef,fr:Acier-recyclable,fr:Eco-emballages,fr:L-engagement-qualite-100-boeuf-selectionne,fr:Pates-fraiches,fr:Tomates-de-plein-champ       1\n",
       "Organic,EU Organic,EU Agriculture,fr:AB Agriculture Biologique,fr:Fabrication-artisanale,fr:Ib-bio-009                                                                                                          1\n",
       "No colorings,No preservatives,fr:Ble-francais-issu-de-l-agriculture-responsable                                                                                                                                 1\n",
       "fr:Au-lait-d-origine-francaise                                                                                                                                                                                  1\n",
       "No cholesterol,fr:Faible-en-calories,fr:Faible-en-glucides,fr:Palmiers-cultives                                                                                                                                 1\n",
       "Green Dot,fr:100-ble-de-france                                                                                                                                                                                  1\n",
       "Green Dot,Superior quality,fr:Decouennes,fr:Eco-emballages,fr:Sans-cartilage,Carbon footprint                                                                                                                   1\n",
       "No flavour enhancer,No hydrogenated fats,No preservatives                                                                                                                                                       1\n",
       "By-appointment-to-her-majesty-the-queen-manufacturers-of-cakes-and-culinary-products                                                                                                                            1\n",
       "fr:100-ble-de-france                                                                                                                                                                                            1\n",
       "Tesco                                                                                                                                                                                                           1\n",
       "PDO,fr:Depuis-1925,fr:Syndicat-du-maroilles-de-thierache                                                                                                                                                        1\n",
       "Low or no sugar,Vegetarian,Kosher,Vegan,Gluten-free,No added sugar,No cholesterol,No preservatives,100-pure,5-essential-electronlytes,High-in-potassium,The-ultimate-hydration-drink                            1\n",
       "Organic,Vegetarian,EU Organic,Vegan,FR-BIO-01,Green Dot,Palm oil free,fr:AB Agriculture Biologique,fr:Fabrique-en-aveyron,fr:Filiere-ble-regionale                                                              1\n",
       "Carbon compensated product,fr:AB Agriculture Biologique,fr:Lk-bio-149,Carbon footprint                                                                                                                          1\n",
       "Low or no salt,Vegetarian,FSC,No added salt,No colorings,No GMOs,No preservatives,Sustainable Palm Oil                                                                                                          1\n",
       "fr:Cuvee-prestige                                                                                                                                                                                               1\n",
       "fr:Viande Française,Gluten-free,fr:Porc Français,fr:Herta-s-engage                                                                                                                                              1\n",
       "Organic,EU Organic,FR-BIO-10,Green Dot,fr:AB Agriculture Biologique,fr:Agriculture-france,fr:Eco-emballages,fr:Oeufs-francais                                                                                   1\n",
       "Organic,EU Organic,ES-ECO-001-AN                                                                                                                                                                                1\n",
       "Organic,Eko                                                                                                                                                                                                     1\n",
       "Organic,EU Organic,FR-BIO-01,fr:AB Agriculture Biologique,fr:Agriculture-italie                                                                                                                                 1\n",
       "Name: labels_en, dtype: int64"
      ]
     },
     "execution_count": 7,
     "metadata": {},
     "output_type": "execute_result"
    }
   ],
   "source": [
    "foodfacts.labels_en.value_counts()"
   ]
  },
  {
   "cell_type": "code",
   "execution_count": 11,
   "metadata": {
    "collapsed": false
   },
   "outputs": [
    {
     "data": {
      "text/plain": [
       "France                                                                                                 42835\n",
       "United Kingdom                                                                                          3610\n",
       "Spain                                                                                                   3348\n",
       "Germany                                                                                                 2654\n",
       "United States                                                                                           2439\n",
       "Belgium                                                                                                 1425\n",
       "Switzerland                                                                                             1369\n",
       "Australia                                                                                               1250\n",
       "Italy                                                                                                    643\n",
       "Portugal                                                                                                 500\n",
       "Canada                                                                                                   456\n",
       "Brazil                                                                                                   308\n",
       "France,fr:Europe                                                                                         257\n",
       "Denmark                                                                                                  217\n",
       "Belgium,France                                                                                           192\n",
       "Austria                                                                                                  186\n",
       "Netherlands                                                                                              174\n",
       "Czech Republic                                                                                           153\n",
       "China                                                                                                    115\n",
       "France,United Kingdom                                                                                    105\n",
       "Guadeloupe                                                                                               103\n",
       "Tunisia                                                                                                   98\n",
       "Japan                                                                                                     97\n",
       "Réunion                                                                                                   85\n",
       "Luxembourg                                                                                                81\n",
       "France,Germany                                                                                            78\n",
       "Poland                                                                                                    75\n",
       "Denmark,France                                                                                            73\n",
       "Morocco                                                                                                   70\n",
       "French Guiana                                                                                             68\n",
       "                                                                                                       ...  \n",
       "Belgium,France,Luxembourg,Switzerland                                                                      1\n",
       "Czech Republic,Denmark,France,Germany                                                                      1\n",
       "Singapore,Thailanda                                                                                        1\n",
       "France,Germany,Italy                                                                                       1\n",
       "Albania,Denmark,Italy                                                                                      1\n",
       "Monaco                                                                                                     1\n",
       "Hawaii                                                                                                     1\n",
       "Austria,France,Germany,Morocco,Netherlands,United Kingdom                                                  1\n",
       "Belgium,France,Netherlands,United Kingdom                                                                  1\n",
       "France,Netherlands,Switzerland                                                                             1\n",
       "Canada,France                                                                                              1\n",
       "Australia,New Zealand,Singapore,Thailand                                                                   1\n",
       "Mali                                                                                                       1\n",
       "fr:yaourt-veloute-aux-fruits                                                                               1\n",
       "France,Germany,Netherlands,United Kingdom                                                                  1\n",
       "Germany,Greece,Spain                                                                                       1\n",
       "France,Ireland,United Kingdom                                                                              1\n",
       "Guadeloupe,Slovenia,United Kingdom                                                                         1\n",
       "Japan,日本                                                                                                   1\n",
       "France,Germany,Portugal                                                                                    1\n",
       "Belgium,Italy                                                                                              1\n",
       "France,Switzerland,United States                                                                           1\n",
       "France,Norway                                                                                              1\n",
       "Czech Republic,Italy                                                                                       1\n",
       "Australia,Philippines                                                                                      1\n",
       "Croatia,Portugal                                                                                           1\n",
       "Austria,Germany,Spain                                                                                      1\n",
       "Portugal,Spain,United Kingdom                                                                              1\n",
       "China,France                                                                                               1\n",
       "Belgium,Denmark,Finland,France,Germany,Hungary,Italy,Netherlands,Norway,Spain,Sweden,United Kingdom        1\n",
       "Name: countries_en, dtype: int64"
      ]
     },
     "execution_count": 11,
     "metadata": {},
     "output_type": "execute_result"
    }
   ],
   "source": [
    "foodfacts.countries_en.value_counts()\n",
    "# 发现最多的是法国, 其余较多的是欧洲地区, 其余地区数据都较少\n",
    "# 时间原因, 仅对 Brazil 以上的国家分析"
   ]
  },
  {
   "cell_type": "code",
   "execution_count": 12,
   "metadata": {
    "collapsed": true
   },
   "outputs": [],
   "source": [
    "focus_countries = ['France','United Kingdom','Spain','Germany','United States','Belgium',\n",
    "                  'Switzerland','Australia','Italy','Portugal','Canada','Brazil']\n",
    "foodfacts_countries = foodfacts[foodfacts.countries_en.isin(focus_countries)]"
   ]
  },
  {
   "cell_type": "code",
   "execution_count": null,
   "metadata": {
    "collapsed": true
   },
   "outputs": [],
   "source": []
  }
 ],
 "metadata": {
  "kernelspec": {
   "display_name": "Python 2",
   "language": "python",
   "name": "python2"
  },
  "language_info": {
   "codemirror_mode": {
    "name": "ipython",
    "version": 2
   },
   "file_extension": ".py",
   "mimetype": "text/x-python",
   "name": "python",
   "nbconvert_exporter": "python",
   "pygments_lexer": "ipython2",
   "version": "2.7.11"
  }
 },
 "nbformat": 4,
 "nbformat_minor": 0
}
