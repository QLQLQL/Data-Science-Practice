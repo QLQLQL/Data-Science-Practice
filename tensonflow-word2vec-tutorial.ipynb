{
 "cells": [
  {
   "cell_type": "markdown",
   "metadata": {},
   "source": [
    "* https://github.com/jikexueyuanwiki/tensorflow-zh/blob/master/SOURCE/tutorials/word2vec/index.md\n",
    "\n",
    "# Vector Representation of Words\n",
    "\n",
    "word embedding (词向量)\n",
    "* sparse\n",
    "* 分布式假设: 上下文情景中的词汇有类似语义\n",
    "    * 潜在语义分析 latent semantic analysis\n",
    "    * neural net language model\n",
    "* word2vec\n",
    "    * 连续词袋模型 CBOW\n",
    "        * 根据源词上下文词汇预测目标词汇\n",
    "        * 分布式信息进行了平滑处理(?)\n",
    "    * skip-gram 模型\n",
    "        * 通过目标词汇预测源词汇 (下文重点讲解)"
   ]
  },
  {
   "cell_type": "markdown",
   "metadata": {},
   "source": [
    "当提供前一个单词 h (history) 后一个单词的概率 $w_t$ (target) \n",
    "$$P(w_t|h) = softmax(score(w_t,h))$$\n",
    "$score(w_t,h)$ 计算文字 $w_t$ 和上文 h 的相容性, 通常使用向量积"
   ]
  },
  {
   "cell_type": "code",
   "execution_count": 1,
   "metadata": {
    "collapsed": true
   },
   "outputs": [],
   "source": [
    "import tensorflow as tf\n",
    "import numpy as np"
   ]
  },
  {
   "cell_type": "code",
   "execution_count": 3,
   "metadata": {
    "collapsed": false
   },
   "outputs": [],
   "source": [
    "import math\n",
    "\n",
    "vocabulary_size = 1000\n",
    "embedding_size = 2\n",
    "\n",
    "# 定义一个嵌套参数矩阵\n",
    "embeddings = tf.Variable(tf.random_uniform([vocabulary_size, embedding_size], -1.0, 1.0))\n",
    "# 对噪声-比对的损失计算就使用一个逻辑回归模型。\n",
    "# 对此，我们需要对语料库中的每个单词定义一个权重值和偏差值。(也可称之为输出权重 与之对应的 输入嵌套值)。\n",
    "nce_weights = tf.Variable(tf.truncated_normal([vocabulary_size, embedding_size],\n",
    "                                              stddev=1.0 / math.sqrt(embedding_size)))\n",
    "nce_biases = tf.Variable(tf.zeros([vocabulary_size]))\n",
    "\n",
    "# noise-contrastive estimation (NCE)"
   ]
  },
  {
   "cell_type": "code",
   "execution_count": null,
   "metadata": {
    "collapsed": true
   },
   "outputs": [],
   "source": [
    "# \n",
    "# 建立占位符\n",
    "train_inputs = tf.placeholder(tf.int32, shape=[batch_size])\n",
    "train_labels = tf.placeholder(tf.int32, shape=[batch_size,1])"
   ]
  }
 ],
 "metadata": {
  "kernelspec": {
   "display_name": "Python 2",
   "language": "python",
   "name": "python2"
  },
  "language_info": {
   "codemirror_mode": {
    "name": "ipython",
    "version": 2
   },
   "file_extension": ".py",
   "mimetype": "text/x-python",
   "name": "python",
   "nbconvert_exporter": "python",
   "pygments_lexer": "ipython2",
   "version": "2.7.11"
  }
 },
 "nbformat": 4,
 "nbformat_minor": 0
}
