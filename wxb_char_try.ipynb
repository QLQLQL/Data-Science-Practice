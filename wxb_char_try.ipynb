{
 "cells": [
  {
   "cell_type": "code",
   "execution_count": 17,
   "metadata": {
    "collapsed": true
   },
   "outputs": [],
   "source": [
    "# -*- coding: utf-8 -*-\n",
    "import os\n",
    "import sys\n",
    "import math\n",
    "import re\n",
    "import pickle\n",
    "import codecs\n",
    "import numpy as np\n",
    "import tensorflow as tf\n",
    "from glob import glob\n",
    "from tensorflow.models.rnn import rnn, rnn_cell\n",
    "from tensorflow.python.framework import ops"
   ]
  },
  {
   "cell_type": "code",
   "execution_count": 7,
   "metadata": {
    "collapsed": true
   },
   "outputs": [],
   "source": [
    "epoch = 15 # epoch to train, 其实这个是指总的循环次数吗?\n",
    "word_embed_dim = 650 # dimension of word embedding matrix 词向量矩阵\n",
    "char_embed_dim = 15  # dimension of char embedding matrix 字向量矩阵\n",
    "max_word_lenth = 65  # 词的最长长度, 这个对于中文没有必要好像...\n",
    "batch_size = 100     # batch 最小的批处理\n",
    "seq_length = 35      # no. of timesteps to unroll for ???\n",
    "learning_Rate = 1.0\n",
    "decay = 0.5  # decay of SGD\n",
    "dropout_prob = 0.5   # probability of dropout layer, dropout layer到底是用在哪儿的???\n",
    "feature_maps = [50,100,150,200,200,200,200] # no. of feature maps in CNN ???\n",
    "kernels = [1,2,3,4,5,6,7]  # The width of CNN kernels ??? CNN的kernel 到底是啥???\n",
    "#model = 'LSTMTDNN' # type of model to train and test, LSTM/LSTMTDNN\n",
    "# data_dir\n",
    "# dataset\n",
    "# checkpoint_dir\n",
    "forward_only = False # false for training\n",
    "use_char = True  # use 字-lv 语言模型\n",
    "use_word = False # use 词-lv 语言模型"
   ]
  },
  {
   "cell_type": "code",
   "execution_count": 8,
   "metadata": {
    "collapsed": true
   },
   "outputs": [],
   "source": [
    "# 写入\n",
    "def save(fname, obj):\n",
    "    with open(fname, 'w') as f:\n",
    "        pickle.dump(obj, f)\n",
    "\n",
    "# 读取\n",
    "def load(fname):\n",
    "    with open(fname, 'r') as f:\n",
    "        pickle.load(f)"
   ]
  },
  {
   "cell_type": "code",
   "execution_count": 9,
   "metadata": {
    "collapsed": true
   },
   "outputs": [],
   "source": [
    "train_fname = 'data/wxb_gt_train.txt' # 黄金时代-> train\n",
    "valid_fname = 'data/wxb_s_valid.txt'  # 沉默的大多数-> valid\n",
    "test_fname = 'data/wxb_sf_test.txt'   # 思维的乐趣-> test\n",
    "input_fnames = [train_fname, valid_fname, test_fname]\n",
    "\n",
    "# vocab_fname = 'vocab.pkl'\n",
    "# tensor_fname = 'data.pkl'\n",
    "# char_fname = 'data_char.pkl'"
   ]
  },
  {
   "cell_type": "code",
   "execution_count": 21,
   "metadata": {
    "collapsed": false
   },
   "outputs": [
    {
     "name": "stdout",
     "output_type": "stream",
     "text": [
      "data/wxb_gt_train.txt  with characters  32443\n",
      "data/wxb_gt_train.txt with unique characters  1829\n",
      "data/wxb_s_valid.txt  with characters  9069\n",
      "data/wxb_s_valid.txt with unique characters  1059\n",
      "data/wxb_sf_test.txt  with characters  6215\n",
      "data/wxb_sf_test.txt with unique characters  867\n"
     ]
    }
   ],
   "source": [
    "# 处理 txt, 去掉空格空行\n",
    "counts = []\n",
    "for input_file in input_fnames:\n",
    "    with codecs.open(input_file,'rw','utf-8') as f: # 用 codecs 打开 file 才不会出现编码问题\n",
    "        a = f.read()\n",
    "        a = a.replace(' ','') # 去掉空格\n",
    "        a = a.replace('\\n','') # 去掉空行\n",
    "        print input_file,' with characters ',len(a) # 每个 txt 中有多少字\n",
    "        # print a[:20]\n",
    "        print input_file,'with unique characters ',len(set(a))\n",
    "        #print 'sample of characters: ',list(set(a))[:10]"
   ]
  },
  {
   "cell_type": "markdown",
   "metadata": {},
   "source": [
    "常用字: 一级常用字为3500, 二级常用字为3000字, 三级为姓氏人名地名等专有名词1605字, 总共8105字, http://www.gov.cn/gzdt/att/att/site1/20130819/tygfhzb.pdf\n",
    "\n",
    "使用 HSK 字典, 总字数为2500常用字\n",
    "https://github.com/OpenMindClub/OMAIWriter/wiki/ResDictionaries"
   ]
  },
  {
   "cell_type": "code",
   "execution_count": null,
   "metadata": {
    "collapsed": true
   },
   "outputs": [],
   "source": []
  }
 ],
 "metadata": {
  "kernelspec": {
   "display_name": "Python 2",
   "language": "python",
   "name": "python2"
  },
  "language_info": {
   "codemirror_mode": {
    "name": "ipython",
    "version": 2
   },
   "file_extension": ".py",
   "mimetype": "text/x-python",
   "name": "python",
   "nbconvert_exporter": "python",
   "pygments_lexer": "ipython2",
   "version": "2.7.11"
  }
 },
 "nbformat": 4,
 "nbformat_minor": 0
}
